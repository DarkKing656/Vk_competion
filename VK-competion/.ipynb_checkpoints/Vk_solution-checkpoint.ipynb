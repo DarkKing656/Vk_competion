{
 "cells": [
  {
   "cell_type": "code",
   "execution_count": 1,
   "id": "03e29a74",
   "metadata": {},
   "outputs": [],
   "source": [
    "import numpy as np\n",
    "import pandas as pd\n",
    "import seaborn as sns\n",
    "import matplotlib.pyplot as plt"
   ]
  },
  {
   "cell_type": "code",
   "execution_count": 2,
   "id": "bb8f2b6d",
   "metadata": {},
   "outputs": [],
   "source": [
    "df=pd.read_csv(\"trainee_train.csv\")\n",
    "ex=pd.read_csv(\"trainee_example.csv\")\n",
    "finish_test=pd.read_csv(\"trainee_test_fish.csv\")"
   ]
  },
  {
   "cell_type": "code",
   "execution_count": 3,
   "id": "d8d7dc74",
   "metadata": {},
   "outputs": [
    {
     "data": {
      "text/html": [
       "<div>\n",
       "<style scoped>\n",
       "    .dataframe tbody tr th:only-of-type {\n",
       "        vertical-align: middle;\n",
       "    }\n",
       "\n",
       "    .dataframe tbody tr th {\n",
       "        vertical-align: top;\n",
       "    }\n",
       "\n",
       "    .dataframe thead th {\n",
       "        text-align: right;\n",
       "    }\n",
       "</style>\n",
       "<table border=\"1\" class=\"dataframe\">\n",
       "  <thead>\n",
       "    <tr style=\"text-align: right;\">\n",
       "      <th></th>\n",
       "      <th>Unnamed: 0</th>\n",
       "      <th>im</th>\n",
       "      <th>v1</th>\n",
       "      <th>v2</th>\n",
       "      <th>v3</th>\n",
       "      <th>v4</th>\n",
       "      <th>v5</th>\n",
       "      <th>v6</th>\n",
       "      <th>v7</th>\n",
       "      <th>v8</th>\n",
       "      <th>...</th>\n",
       "      <th>v437</th>\n",
       "      <th>v438</th>\n",
       "      <th>v439</th>\n",
       "      <th>v440</th>\n",
       "      <th>v441</th>\n",
       "      <th>v442</th>\n",
       "      <th>v443</th>\n",
       "      <th>v444</th>\n",
       "      <th>v445</th>\n",
       "      <th>v446</th>\n",
       "    </tr>\n",
       "  </thead>\n",
       "  <tbody>\n",
       "    <tr>\n",
       "      <th>0</th>\n",
       "      <td>0</td>\n",
       "      <td>0.0</td>\n",
       "      <td>128.100243</td>\n",
       "      <td>128.157072</td>\n",
       "      <td>129.255102</td>\n",
       "      <td>128.273006</td>\n",
       "      <td>126.532819</td>\n",
       "      <td>129.023232</td>\n",
       "      <td>129.854839</td>\n",
       "      <td>129.828431</td>\n",
       "      <td>...</td>\n",
       "      <td>128.800985</td>\n",
       "      <td>128.232694</td>\n",
       "      <td>128.211893</td>\n",
       "      <td>130.512476</td>\n",
       "      <td>130.411160</td>\n",
       "      <td>130.650165</td>\n",
       "      <td>130.904685</td>\n",
       "      <td>131.017268</td>\n",
       "      <td>130.477398</td>\n",
       "      <td>130.496150</td>\n",
       "    </tr>\n",
       "    <tr>\n",
       "      <th>1</th>\n",
       "      <td>1</td>\n",
       "      <td>1.0</td>\n",
       "      <td>128.100243</td>\n",
       "      <td>128.157072</td>\n",
       "      <td>126.636364</td>\n",
       "      <td>128.273006</td>\n",
       "      <td>130.810403</td>\n",
       "      <td>129.023232</td>\n",
       "      <td>128.633333</td>\n",
       "      <td>128.994152</td>\n",
       "      <td>...</td>\n",
       "      <td>128.914365</td>\n",
       "      <td>128.232694</td>\n",
       "      <td>128.211893</td>\n",
       "      <td>128.167519</td>\n",
       "      <td>130.411160</td>\n",
       "      <td>130.650165</td>\n",
       "      <td>130.904685</td>\n",
       "      <td>131.017268</td>\n",
       "      <td>130.477398</td>\n",
       "      <td>130.496150</td>\n",
       "    </tr>\n",
       "    <tr>\n",
       "      <th>2</th>\n",
       "      <td>2</td>\n",
       "      <td>1.0</td>\n",
       "      <td>128.100243</td>\n",
       "      <td>128.157072</td>\n",
       "      <td>129.255102</td>\n",
       "      <td>128.273006</td>\n",
       "      <td>130.810403</td>\n",
       "      <td>129.023232</td>\n",
       "      <td>126.769231</td>\n",
       "      <td>126.926295</td>\n",
       "      <td>...</td>\n",
       "      <td>128.800985</td>\n",
       "      <td>128.232694</td>\n",
       "      <td>128.211893</td>\n",
       "      <td>128.167519</td>\n",
       "      <td>128.051724</td>\n",
       "      <td>127.709786</td>\n",
       "      <td>127.349282</td>\n",
       "      <td>127.063052</td>\n",
       "      <td>125.169118</td>\n",
       "      <td>125.274194</td>\n",
       "    </tr>\n",
       "    <tr>\n",
       "      <th>3</th>\n",
       "      <td>3</td>\n",
       "      <td>1.0</td>\n",
       "      <td>128.100243</td>\n",
       "      <td>128.157072</td>\n",
       "      <td>127.630027</td>\n",
       "      <td>128.273006</td>\n",
       "      <td>126.532819</td>\n",
       "      <td>129.023232</td>\n",
       "      <td>126.769231</td>\n",
       "      <td>126.926295</td>\n",
       "      <td>...</td>\n",
       "      <td>128.800985</td>\n",
       "      <td>130.794007</td>\n",
       "      <td>131.026119</td>\n",
       "      <td>130.512476</td>\n",
       "      <td>130.411160</td>\n",
       "      <td>130.650165</td>\n",
       "      <td>130.904685</td>\n",
       "      <td>131.017268</td>\n",
       "      <td>130.477398</td>\n",
       "      <td>130.496150</td>\n",
       "    </tr>\n",
       "    <tr>\n",
       "      <th>4</th>\n",
       "      <td>4</td>\n",
       "      <td>1.0</td>\n",
       "      <td>128.100243</td>\n",
       "      <td>128.336364</td>\n",
       "      <td>129.255102</td>\n",
       "      <td>128.273006</td>\n",
       "      <td>130.810403</td>\n",
       "      <td>126.042980</td>\n",
       "      <td>129.854839</td>\n",
       "      <td>126.926295</td>\n",
       "      <td>...</td>\n",
       "      <td>128.800985</td>\n",
       "      <td>130.794007</td>\n",
       "      <td>131.026119</td>\n",
       "      <td>130.512476</td>\n",
       "      <td>130.411160</td>\n",
       "      <td>130.650165</td>\n",
       "      <td>130.904685</td>\n",
       "      <td>131.017268</td>\n",
       "      <td>130.477398</td>\n",
       "      <td>130.496150</td>\n",
       "    </tr>\n",
       "  </tbody>\n",
       "</table>\n",
       "<p>5 rows × 448 columns</p>\n",
       "</div>"
      ],
      "text/plain": [
       "   Unnamed: 0   im          v1          v2          v3          v4  \\\n",
       "0           0  0.0  128.100243  128.157072  129.255102  128.273006   \n",
       "1           1  1.0  128.100243  128.157072  126.636364  128.273006   \n",
       "2           2  1.0  128.100243  128.157072  129.255102  128.273006   \n",
       "3           3  1.0  128.100243  128.157072  127.630027  128.273006   \n",
       "4           4  1.0  128.100243  128.336364  129.255102  128.273006   \n",
       "\n",
       "           v5          v6          v7          v8  ...        v437  \\\n",
       "0  126.532819  129.023232  129.854839  129.828431  ...  128.800985   \n",
       "1  130.810403  129.023232  128.633333  128.994152  ...  128.914365   \n",
       "2  130.810403  129.023232  126.769231  126.926295  ...  128.800985   \n",
       "3  126.532819  129.023232  126.769231  126.926295  ...  128.800985   \n",
       "4  130.810403  126.042980  129.854839  126.926295  ...  128.800985   \n",
       "\n",
       "         v438        v439        v440        v441        v442        v443  \\\n",
       "0  128.232694  128.211893  130.512476  130.411160  130.650165  130.904685   \n",
       "1  128.232694  128.211893  128.167519  130.411160  130.650165  130.904685   \n",
       "2  128.232694  128.211893  128.167519  128.051724  127.709786  127.349282   \n",
       "3  130.794007  131.026119  130.512476  130.411160  130.650165  130.904685   \n",
       "4  130.794007  131.026119  130.512476  130.411160  130.650165  130.904685   \n",
       "\n",
       "         v444        v445        v446  \n",
       "0  131.017268  130.477398  130.496150  \n",
       "1  131.017268  130.477398  130.496150  \n",
       "2  127.063052  125.169118  125.274194  \n",
       "3  131.017268  130.477398  130.496150  \n",
       "4  131.017268  130.477398  130.496150  \n",
       "\n",
       "[5 rows x 448 columns]"
      ]
     },
     "execution_count": 3,
     "metadata": {},
     "output_type": "execute_result"
    }
   ],
   "source": [
    "df.head()"
   ]
  },
  {
   "cell_type": "code",
   "execution_count": 4,
   "id": "0b9e2bc7",
   "metadata": {},
   "outputs": [
    {
     "data": {
      "text/html": [
       "<div>\n",
       "<style scoped>\n",
       "    .dataframe tbody tr th:only-of-type {\n",
       "        vertical-align: middle;\n",
       "    }\n",
       "\n",
       "    .dataframe tbody tr th {\n",
       "        vertical-align: top;\n",
       "    }\n",
       "\n",
       "    .dataframe thead th {\n",
       "        text-align: right;\n",
       "    }\n",
       "</style>\n",
       "<table border=\"1\" class=\"dataframe\">\n",
       "  <thead>\n",
       "    <tr style=\"text-align: right;\">\n",
       "      <th></th>\n",
       "      <th>Unnamed: 0</th>\n",
       "      <th>im</th>\n",
       "    </tr>\n",
       "  </thead>\n",
       "  <tbody>\n",
       "    <tr>\n",
       "      <th>0</th>\n",
       "      <td>0</td>\n",
       "      <td>0.0</td>\n",
       "    </tr>\n",
       "    <tr>\n",
       "      <th>1</th>\n",
       "      <td>1</td>\n",
       "      <td>0.0</td>\n",
       "    </tr>\n",
       "    <tr>\n",
       "      <th>2</th>\n",
       "      <td>2</td>\n",
       "      <td>1.0</td>\n",
       "    </tr>\n",
       "    <tr>\n",
       "      <th>3</th>\n",
       "      <td>3</td>\n",
       "      <td>1.0</td>\n",
       "    </tr>\n",
       "  </tbody>\n",
       "</table>\n",
       "</div>"
      ],
      "text/plain": [
       "   Unnamed: 0   im\n",
       "0           0  0.0\n",
       "1           1  0.0\n",
       "2           2  1.0\n",
       "3           3  1.0"
      ]
     },
     "execution_count": 4,
     "metadata": {},
     "output_type": "execute_result"
    }
   ],
   "source": [
    "ex.head()"
   ]
  },
  {
   "cell_type": "code",
   "execution_count": 5,
   "id": "fe57514b",
   "metadata": {},
   "outputs": [
    {
     "data": {
      "text/html": [
       "<div>\n",
       "<style scoped>\n",
       "    .dataframe tbody tr th:only-of-type {\n",
       "        vertical-align: middle;\n",
       "    }\n",
       "\n",
       "    .dataframe tbody tr th {\n",
       "        vertical-align: top;\n",
       "    }\n",
       "\n",
       "    .dataframe thead th {\n",
       "        text-align: right;\n",
       "    }\n",
       "</style>\n",
       "<table border=\"1\" class=\"dataframe\">\n",
       "  <thead>\n",
       "    <tr style=\"text-align: right;\">\n",
       "      <th></th>\n",
       "      <th>Unnamed: 0</th>\n",
       "      <th>v1</th>\n",
       "      <th>v2</th>\n",
       "      <th>v3</th>\n",
       "      <th>v4</th>\n",
       "      <th>v5</th>\n",
       "      <th>v6</th>\n",
       "      <th>v7</th>\n",
       "      <th>v8</th>\n",
       "      <th>v9</th>\n",
       "      <th>...</th>\n",
       "      <th>v437</th>\n",
       "      <th>v438</th>\n",
       "      <th>v439</th>\n",
       "      <th>v440</th>\n",
       "      <th>v441</th>\n",
       "      <th>v442</th>\n",
       "      <th>v443</th>\n",
       "      <th>v444</th>\n",
       "      <th>v445</th>\n",
       "      <th>v446</th>\n",
       "    </tr>\n",
       "  </thead>\n",
       "  <tbody>\n",
       "    <tr>\n",
       "      <th>0</th>\n",
       "      <td>0</td>\n",
       "      <td>130.798507</td>\n",
       "      <td>131.174905</td>\n",
       "      <td>129.255102</td>\n",
       "      <td>132.199234</td>\n",
       "      <td>128.746479</td>\n",
       "      <td>130.381148</td>\n",
       "      <td>129.854839</td>\n",
       "      <td>129.828431</td>\n",
       "      <td>129.868526</td>\n",
       "      <td>...</td>\n",
       "      <td>128.800985</td>\n",
       "      <td>128.232694</td>\n",
       "      <td>128.211893</td>\n",
       "      <td>128.167519</td>\n",
       "      <td>126.100000</td>\n",
       "      <td>127.709786</td>\n",
       "      <td>127.349282</td>\n",
       "      <td>127.063052</td>\n",
       "      <td>127.825000</td>\n",
       "      <td>126.611554</td>\n",
       "    </tr>\n",
       "    <tr>\n",
       "      <th>1</th>\n",
       "      <td>1</td>\n",
       "      <td>128.100243</td>\n",
       "      <td>128.157072</td>\n",
       "      <td>127.630027</td>\n",
       "      <td>128.273006</td>\n",
       "      <td>130.810403</td>\n",
       "      <td>129.023232</td>\n",
       "      <td>126.769231</td>\n",
       "      <td>126.926295</td>\n",
       "      <td>127.196460</td>\n",
       "      <td>...</td>\n",
       "      <td>128.800985</td>\n",
       "      <td>130.794007</td>\n",
       "      <td>127.750000</td>\n",
       "      <td>130.512476</td>\n",
       "      <td>130.411160</td>\n",
       "      <td>130.650165</td>\n",
       "      <td>130.904685</td>\n",
       "      <td>131.017268</td>\n",
       "      <td>130.477398</td>\n",
       "      <td>130.496150</td>\n",
       "    </tr>\n",
       "    <tr>\n",
       "      <th>2</th>\n",
       "      <td>2</td>\n",
       "      <td>128.100243</td>\n",
       "      <td>128.157072</td>\n",
       "      <td>129.255102</td>\n",
       "      <td>128.273006</td>\n",
       "      <td>130.810403</td>\n",
       "      <td>126.042980</td>\n",
       "      <td>129.854839</td>\n",
       "      <td>129.828431</td>\n",
       "      <td>129.868526</td>\n",
       "      <td>...</td>\n",
       "      <td>128.800985</td>\n",
       "      <td>130.794007</td>\n",
       "      <td>131.026119</td>\n",
       "      <td>130.512476</td>\n",
       "      <td>130.411160</td>\n",
       "      <td>130.650165</td>\n",
       "      <td>130.904685</td>\n",
       "      <td>131.017268</td>\n",
       "      <td>130.477398</td>\n",
       "      <td>130.496150</td>\n",
       "    </tr>\n",
       "    <tr>\n",
       "      <th>3</th>\n",
       "      <td>3</td>\n",
       "      <td>130.798507</td>\n",
       "      <td>131.174905</td>\n",
       "      <td>129.255102</td>\n",
       "      <td>132.199234</td>\n",
       "      <td>132.860465</td>\n",
       "      <td>130.381148</td>\n",
       "      <td>129.854839</td>\n",
       "      <td>129.828431</td>\n",
       "      <td>129.868526</td>\n",
       "      <td>...</td>\n",
       "      <td>126.503759</td>\n",
       "      <td>128.232694</td>\n",
       "      <td>128.211893</td>\n",
       "      <td>128.167519</td>\n",
       "      <td>128.051724</td>\n",
       "      <td>127.709786</td>\n",
       "      <td>127.349282</td>\n",
       "      <td>127.063052</td>\n",
       "      <td>127.825000</td>\n",
       "      <td>126.611554</td>\n",
       "    </tr>\n",
       "    <tr>\n",
       "      <th>4</th>\n",
       "      <td>4</td>\n",
       "      <td>130.798507</td>\n",
       "      <td>131.174905</td>\n",
       "      <td>129.255102</td>\n",
       "      <td>132.199234</td>\n",
       "      <td>130.810403</td>\n",
       "      <td>130.381148</td>\n",
       "      <td>129.854839</td>\n",
       "      <td>129.828431</td>\n",
       "      <td>129.868526</td>\n",
       "      <td>...</td>\n",
       "      <td>128.914365</td>\n",
       "      <td>128.232694</td>\n",
       "      <td>128.211893</td>\n",
       "      <td>128.167519</td>\n",
       "      <td>128.051724</td>\n",
       "      <td>127.709786</td>\n",
       "      <td>127.349282</td>\n",
       "      <td>127.063052</td>\n",
       "      <td>125.169118</td>\n",
       "      <td>126.611554</td>\n",
       "    </tr>\n",
       "    <tr>\n",
       "      <th>...</th>\n",
       "      <td>...</td>\n",
       "      <td>...</td>\n",
       "      <td>...</td>\n",
       "      <td>...</td>\n",
       "      <td>...</td>\n",
       "      <td>...</td>\n",
       "      <td>...</td>\n",
       "      <td>...</td>\n",
       "      <td>...</td>\n",
       "      <td>...</td>\n",
       "      <td>...</td>\n",
       "      <td>...</td>\n",
       "      <td>...</td>\n",
       "      <td>...</td>\n",
       "      <td>...</td>\n",
       "      <td>...</td>\n",
       "      <td>...</td>\n",
       "      <td>...</td>\n",
       "      <td>...</td>\n",
       "      <td>...</td>\n",
       "      <td>...</td>\n",
       "    </tr>\n",
       "    <tr>\n",
       "      <th>211</th>\n",
       "      <td>211</td>\n",
       "      <td>130.798507</td>\n",
       "      <td>131.174905</td>\n",
       "      <td>129.255102</td>\n",
       "      <td>117.900000</td>\n",
       "      <td>132.860465</td>\n",
       "      <td>130.381148</td>\n",
       "      <td>129.854839</td>\n",
       "      <td>129.828431</td>\n",
       "      <td>129.868526</td>\n",
       "      <td>...</td>\n",
       "      <td>128.914365</td>\n",
       "      <td>128.232694</td>\n",
       "      <td>128.211893</td>\n",
       "      <td>128.167519</td>\n",
       "      <td>128.051724</td>\n",
       "      <td>127.709786</td>\n",
       "      <td>127.349282</td>\n",
       "      <td>127.063052</td>\n",
       "      <td>127.825000</td>\n",
       "      <td>126.611554</td>\n",
       "    </tr>\n",
       "    <tr>\n",
       "      <th>212</th>\n",
       "      <td>212</td>\n",
       "      <td>128.100243</td>\n",
       "      <td>128.157072</td>\n",
       "      <td>126.636364</td>\n",
       "      <td>128.273006</td>\n",
       "      <td>130.810403</td>\n",
       "      <td>129.023232</td>\n",
       "      <td>128.633333</td>\n",
       "      <td>128.994152</td>\n",
       "      <td>128.994152</td>\n",
       "      <td>...</td>\n",
       "      <td>128.800985</td>\n",
       "      <td>128.232694</td>\n",
       "      <td>128.211893</td>\n",
       "      <td>126.744108</td>\n",
       "      <td>130.411160</td>\n",
       "      <td>130.650165</td>\n",
       "      <td>130.904685</td>\n",
       "      <td>131.017268</td>\n",
       "      <td>130.477398</td>\n",
       "      <td>130.496150</td>\n",
       "    </tr>\n",
       "    <tr>\n",
       "      <th>213</th>\n",
       "      <td>213</td>\n",
       "      <td>128.100243</td>\n",
       "      <td>128.157072</td>\n",
       "      <td>129.255102</td>\n",
       "      <td>128.273006</td>\n",
       "      <td>126.532819</td>\n",
       "      <td>129.023232</td>\n",
       "      <td>127.720000</td>\n",
       "      <td>127.428571</td>\n",
       "      <td>127.428571</td>\n",
       "      <td>...</td>\n",
       "      <td>128.914365</td>\n",
       "      <td>128.232694</td>\n",
       "      <td>128.211893</td>\n",
       "      <td>128.167519</td>\n",
       "      <td>130.411160</td>\n",
       "      <td>130.650165</td>\n",
       "      <td>130.904685</td>\n",
       "      <td>131.017268</td>\n",
       "      <td>130.477398</td>\n",
       "      <td>130.496150</td>\n",
       "    </tr>\n",
       "    <tr>\n",
       "      <th>214</th>\n",
       "      <td>214</td>\n",
       "      <td>128.100243</td>\n",
       "      <td>128.157072</td>\n",
       "      <td>129.255102</td>\n",
       "      <td>128.273006</td>\n",
       "      <td>126.532819</td>\n",
       "      <td>126.042980</td>\n",
       "      <td>129.854839</td>\n",
       "      <td>129.828431</td>\n",
       "      <td>129.868526</td>\n",
       "      <td>...</td>\n",
       "      <td>128.914365</td>\n",
       "      <td>128.232694</td>\n",
       "      <td>128.211893</td>\n",
       "      <td>128.167519</td>\n",
       "      <td>128.051724</td>\n",
       "      <td>127.709786</td>\n",
       "      <td>127.349282</td>\n",
       "      <td>127.063052</td>\n",
       "      <td>130.477398</td>\n",
       "      <td>130.496150</td>\n",
       "    </tr>\n",
       "    <tr>\n",
       "      <th>215</th>\n",
       "      <td>215</td>\n",
       "      <td>128.100243</td>\n",
       "      <td>128.157072</td>\n",
       "      <td>127.630027</td>\n",
       "      <td>128.273006</td>\n",
       "      <td>126.532819</td>\n",
       "      <td>129.023232</td>\n",
       "      <td>129.854839</td>\n",
       "      <td>126.926295</td>\n",
       "      <td>127.196460</td>\n",
       "      <td>...</td>\n",
       "      <td>128.800985</td>\n",
       "      <td>130.794007</td>\n",
       "      <td>131.026119</td>\n",
       "      <td>130.512476</td>\n",
       "      <td>130.411160</td>\n",
       "      <td>130.650165</td>\n",
       "      <td>130.904685</td>\n",
       "      <td>131.017268</td>\n",
       "      <td>130.477398</td>\n",
       "      <td>130.496150</td>\n",
       "    </tr>\n",
       "  </tbody>\n",
       "</table>\n",
       "<p>216 rows × 447 columns</p>\n",
       "</div>"
      ],
      "text/plain": [
       "     Unnamed: 0          v1          v2          v3          v4          v5  \\\n",
       "0             0  130.798507  131.174905  129.255102  132.199234  128.746479   \n",
       "1             1  128.100243  128.157072  127.630027  128.273006  130.810403   \n",
       "2             2  128.100243  128.157072  129.255102  128.273006  130.810403   \n",
       "3             3  130.798507  131.174905  129.255102  132.199234  132.860465   \n",
       "4             4  130.798507  131.174905  129.255102  132.199234  130.810403   \n",
       "..          ...         ...         ...         ...         ...         ...   \n",
       "211         211  130.798507  131.174905  129.255102  117.900000  132.860465   \n",
       "212         212  128.100243  128.157072  126.636364  128.273006  130.810403   \n",
       "213         213  128.100243  128.157072  129.255102  128.273006  126.532819   \n",
       "214         214  128.100243  128.157072  129.255102  128.273006  126.532819   \n",
       "215         215  128.100243  128.157072  127.630027  128.273006  126.532819   \n",
       "\n",
       "             v6          v7          v8          v9  ...        v437  \\\n",
       "0    130.381148  129.854839  129.828431  129.868526  ...  128.800985   \n",
       "1    129.023232  126.769231  126.926295  127.196460  ...  128.800985   \n",
       "2    126.042980  129.854839  129.828431  129.868526  ...  128.800985   \n",
       "3    130.381148  129.854839  129.828431  129.868526  ...  126.503759   \n",
       "4    130.381148  129.854839  129.828431  129.868526  ...  128.914365   \n",
       "..          ...         ...         ...         ...  ...         ...   \n",
       "211  130.381148  129.854839  129.828431  129.868526  ...  128.914365   \n",
       "212  129.023232  128.633333  128.994152  128.994152  ...  128.800985   \n",
       "213  129.023232  127.720000  127.428571  127.428571  ...  128.914365   \n",
       "214  126.042980  129.854839  129.828431  129.868526  ...  128.914365   \n",
       "215  129.023232  129.854839  126.926295  127.196460  ...  128.800985   \n",
       "\n",
       "           v438        v439        v440        v441        v442        v443  \\\n",
       "0    128.232694  128.211893  128.167519  126.100000  127.709786  127.349282   \n",
       "1    130.794007  127.750000  130.512476  130.411160  130.650165  130.904685   \n",
       "2    130.794007  131.026119  130.512476  130.411160  130.650165  130.904685   \n",
       "3    128.232694  128.211893  128.167519  128.051724  127.709786  127.349282   \n",
       "4    128.232694  128.211893  128.167519  128.051724  127.709786  127.349282   \n",
       "..          ...         ...         ...         ...         ...         ...   \n",
       "211  128.232694  128.211893  128.167519  128.051724  127.709786  127.349282   \n",
       "212  128.232694  128.211893  126.744108  130.411160  130.650165  130.904685   \n",
       "213  128.232694  128.211893  128.167519  130.411160  130.650165  130.904685   \n",
       "214  128.232694  128.211893  128.167519  128.051724  127.709786  127.349282   \n",
       "215  130.794007  131.026119  130.512476  130.411160  130.650165  130.904685   \n",
       "\n",
       "           v444        v445        v446  \n",
       "0    127.063052  127.825000  126.611554  \n",
       "1    131.017268  130.477398  130.496150  \n",
       "2    131.017268  130.477398  130.496150  \n",
       "3    127.063052  127.825000  126.611554  \n",
       "4    127.063052  125.169118  126.611554  \n",
       "..          ...         ...         ...  \n",
       "211  127.063052  127.825000  126.611554  \n",
       "212  131.017268  130.477398  130.496150  \n",
       "213  131.017268  130.477398  130.496150  \n",
       "214  127.063052  130.477398  130.496150  \n",
       "215  131.017268  130.477398  130.496150  \n",
       "\n",
       "[216 rows x 447 columns]"
      ]
     },
     "execution_count": 5,
     "metadata": {},
     "output_type": "execute_result"
    }
   ],
   "source": [
    "finish_test"
   ]
  },
  {
   "cell_type": "code",
   "execution_count": 6,
   "id": "870ce37e",
   "metadata": {},
   "outputs": [
    {
     "data": {
      "text/plain": [
       "array([0., 1.])"
      ]
     },
     "execution_count": 6,
     "metadata": {},
     "output_type": "execute_result"
    }
   ],
   "source": [
    "df['im'].unique()"
   ]
  },
  {
   "cell_type": "code",
   "execution_count": 7,
   "id": "9a3d8e8e",
   "metadata": {},
   "outputs": [
    {
     "data": {
      "text/plain": [
       "<Axes: xlabel='im', ylabel='count'>"
      ]
     },
     "execution_count": 7,
     "metadata": {},
     "output_type": "execute_result"
    },
    {
     "data": {
      "image/png": "[encoded data removed]",
      "text/plain": [
       "<Figure size 640x480 with 1 Axes>"
      ]
     },
     "metadata": {},
     "output_type": "display_data"
    }
   ],
   "source": [
    "sns.countplot(x='im',data=df)"
   ]
  },
  {
   "cell_type": "code",
   "execution_count": 8,
   "id": "5b1a9f67",
   "metadata": {},
   "outputs": [
    {
     "data": {
      "text/plain": [
       "Unnamed: 0    0.080362\n",
       "im            1.000000\n",
       "v1           -0.190250\n",
       "v2           -0.203546\n",
       "v3           -0.135777\n",
       "                ...   \n",
       "v442         -0.174100\n",
       "v443         -0.236946\n",
       "v444         -0.209644\n",
       "v445         -0.232697\n",
       "v446         -0.222700\n",
       "Name: im, Length: 448, dtype: float64"
      ]
     },
     "execution_count": 8,
     "metadata": {},
     "output_type": "execute_result"
    }
   ],
   "source": [
    "df.corr()['im']"
   ]
  },
  {
   "cell_type": "code",
   "execution_count": 9,
   "id": "72315067",
   "metadata": {},
   "outputs": [
    {
     "data": {
      "text/plain": [
       "<Axes: >"
      ]
     },
     "execution_count": 9,
     "metadata": {},
     "output_type": "execute_result"
    },
    {
     "data": {
      "image/png": "[encoded data removed]",
      "text/plain": [
       "<Figure size 1000x300 with 1 Axes>"
      ]
     },
     "metadata": {},
     "output_type": "display_data"
    }
   ],
   "source": [
    "plt.figure(figsize=(10,3))\n",
    "df.corr()['im'][:-1].sort_values().plot(kind='bar')"
   ]
  },
  {
   "cell_type": "code",
   "execution_count": 10,
   "id": "027c775a",
   "metadata": {},
   "outputs": [],
   "source": [
    "\n",
    "X = df.drop('im',axis=1)\n",
    "y = df['im']"
   ]
  },
  {
   "cell_type": "code",
   "execution_count": null,
   "id": "e71dd24b",
   "metadata": {},
   "outputs": [],
   "source": []
  },
  {
   "cell_type": "code",
   "execution_count": null,
   "id": "b6394772",
   "metadata": {},
   "outputs": [],
   "source": [
    "\n"
   ]
  },
  {
   "cell_type": "code",
   "execution_count": 11,
   "id": "a2ccdb42",
   "metadata": {},
   "outputs": [],
   "source": [
    "from sklearn.model_selection import train_test_split"
   ]
  },
  {
   "cell_type": "code",
   "execution_count": 149,
   "id": "a9cef82a",
   "metadata": {},
   "outputs": [],
   "source": [
    "X_train, X_test, y_train, y_test = train_test_split(X, y, test_size=0.2)"
   ]
  },
  {
   "cell_type": "code",
   "execution_count": 125,
   "id": "c19ce524",
   "metadata": {},
   "outputs": [],
   "source": [
    "from sklearn.preprocessing import StandardScaler"
   ]
  },
  {
   "cell_type": "code",
   "execution_count": 150,
   "id": "f3ba4347",
   "metadata": {},
   "outputs": [],
   "source": [
    "scaler = StandardScaler()"
   ]
  },
  {
   "cell_type": "code",
   "execution_count": 151,
   "id": "d95168bf",
   "metadata": {},
   "outputs": [],
   "source": [
    "scaled_X_train = scaler.fit_transform(X_train)\n",
    "scaled_X_test = scaler.transform(X_test)"
   ]
  },
  {
   "cell_type": "code",
   "execution_count": 140,
   "id": "c02b44d4",
   "metadata": {},
   "outputs": [],
   "source": [
    "from sklearn.svm import SVC"
   ]
  },
  {
   "cell_type": "code",
   "execution_count": 152,
   "id": "428f5ae9",
   "metadata": {},
   "outputs": [],
   "source": [
    "svc = SVC(class_weight='balanced')"
   ]
  },
  {
   "cell_type": "code",
   "execution_count": 142,
   "id": "c76a043c",
   "metadata": {},
   "outputs": [],
   "source": [
    "from sklearn.model_selection import GridSearchCV"
   ]
  },
  {
   "cell_type": "code",
   "execution_count": 153,
   "id": "d02bff88",
   "metadata": {},
   "outputs": [],
   "source": [
    "param_grid = {'C':[0.001,0.005,0.01,0.05,0.1,0.5,1,10,50,100,],'gamma':['scale','auto'],'kernel':['linear','rbf','poly'],\n",
    "              'gamma':['scale','auto'],\n",
    "              'degree':[2,3,4,5]}\n",
    "grid = GridSearchCV(svc,param_grid)"
   ]
  },
  {
   "cell_type": "code",
   "execution_count": 154,
   "id": "3c6cb7e7",
   "metadata": {},
   "outputs": [
    {
     "data": {
      "text/html": [
       "<style>#sk-container-id-13 {color: black;background-color: white;}#sk-container-id-13 pre{padding: 0;}#sk-container-id-13 div.sk-toggleable {background-color: white;}#sk-container-id-13 label.sk-toggleable__label {cursor: pointer;display: block;width: 100%;margin-bottom: 0;padding: 0.3em;box-sizing: border-box;text-align: center;}#sk-container-id-13 label.sk-toggleable__label-arrow:before {content: \"▸\";float: left;margin-right: 0.25em;color: #696969;}#sk-container-id-13 label.sk-toggleable__label-arrow:hover:before {color: black;}#sk-container-id-13 div.sk-estimator:hover label.sk-toggleable__label-arrow:before {color: black;}#sk-container-id-13 div.sk-toggleable__content {max-height: 0;max-width: 0;overflow: hidden;text-align: left;background-color: #f0f8ff;}#sk-container-id-13 div.sk-toggleable__content pre {margin: 0.2em;color: black;border-radius: 0.25em;background-color: #f0f8ff;}#sk-container-id-13 input.sk-toggleable__control:checked~div.sk-toggleable__content {max-height: 200px;max-width: 100%;overflow: auto;}#sk-container-id-13 input.sk-toggleable__control:checked~label.sk-toggleable__label-arrow:before {content: \"▾\";}#sk-container-id-13 div.sk-estimator input.sk-toggleable__control:checked~label.sk-toggleable__label {background-color: #d4ebff;}#sk-container-id-13 div.sk-label input.sk-toggleable__control:checked~label.sk-toggleable__label {background-color: #d4ebff;}#sk-container-id-13 input.sk-hidden--visually {border: 0;clip: rect(1px 1px 1px 1px);clip: rect(1px, 1px, 1px, 1px);height: 1px;margin: -1px;overflow: hidden;padding: 0;position: absolute;width: 1px;}#sk-container-id-13 div.sk-estimator {font-family: monospace;background-color: #f0f8ff;border: 1px dotted black;border-radius: 0.25em;box-sizing: border-box;margin-bottom: 0.5em;}#sk-container-id-13 div.sk-estimator:hover {background-color: #d4ebff;}#sk-container-id-13 div.sk-parallel-item::after {content: \"\";width: 100%;border-bottom: 1px solid gray;flex-grow: 1;}#sk-container-id-13 div.sk-label:hover label.sk-toggleable__label {background-color: #d4ebff;}#sk-container-id-13 div.sk-serial::before {content: \"\";position: absolute;border-left: 1px solid gray;box-sizing: border-box;top: 0;bottom: 0;left: 50%;z-index: 0;}#sk-container-id-13 div.sk-serial {display: flex;flex-direction: column;align-items: center;background-color: white;padding-right: 0.2em;padding-left: 0.2em;position: relative;}#sk-container-id-13 div.sk-item {position: relative;z-index: 1;}#sk-container-id-13 div.sk-parallel {display: flex;align-items: stretch;justify-content: center;background-color: white;position: relative;}#sk-container-id-13 div.sk-item::before, #sk-container-id-13 div.sk-parallel-item::before {content: \"\";position: absolute;border-left: 1px solid gray;box-sizing: border-box;top: 0;bottom: 0;left: 50%;z-index: -1;}#sk-container-id-13 div.sk-parallel-item {display: flex;flex-direction: column;z-index: 1;position: relative;background-color: white;}#sk-container-id-13 div.sk-parallel-item:first-child::after {align-self: flex-end;width: 50%;}#sk-container-id-13 div.sk-parallel-item:last-child::after {align-self: flex-start;width: 50%;}#sk-container-id-13 div.sk-parallel-item:only-child::after {width: 0;}#sk-container-id-13 div.sk-dashed-wrapped {border: 1px dashed gray;margin: 0 0.4em 0.5em 0.4em;box-sizing: border-box;padding-bottom: 0.4em;background-color: white;}#sk-container-id-13 div.sk-label label {font-family: monospace;font-weight: bold;display: inline-block;line-height: 1.2em;}#sk-container-id-13 div.sk-label-container {text-align: center;}#sk-container-id-13 div.sk-container {/* jupyter's `normalize.less` sets `[hidden] { display: none; }` but bootstrap.min.css set `[hidden] { display: none !important; }` so we also need the `!important` here to be able to override the default hidden behavior on the sphinx rendered scikit-learn.org. See: https://github.com/scikit-learn/scikit-learn/issues/21755 */display: inline-block !important;position: relative;}#sk-container-id-13 div.sk-text-repr-fallback {display: none;}</style><div id=\"sk-container-id-13\" class=\"sk-top-container\"><div class=\"sk-text-repr-fallback\"><pre>GridSearchCV(estimator=SVC(class_weight=&#x27;balanced&#x27;),\n",
       "             param_grid={&#x27;C&#x27;: [0.001, 0.005, 0.01, 0.05, 0.1, 0.5, 1, 10, 50,\n",
       "                               100],\n",
       "                         &#x27;degree&#x27;: [2, 3, 4, 5], &#x27;gamma&#x27;: [&#x27;scale&#x27;, &#x27;auto&#x27;],\n",
       "                         &#x27;kernel&#x27;: [&#x27;linear&#x27;, &#x27;rbf&#x27;, &#x27;poly&#x27;]})</pre><b>In a Jupyter environment, please rerun this cell to show the HTML representation or trust the notebook. <br />On GitHub, the HTML representation is unable to render, please try loading this page with nbviewer.org.</b></div><div class=\"sk-container\" hidden><div class=\"sk-item sk-dashed-wrapped\"><div class=\"sk-label-container\"><div class=\"sk-label sk-toggleable\"><input class=\"sk-toggleable__control sk-hidden--visually\" id=\"sk-estimator-id-33\" type=\"checkbox\" ><label for=\"sk-estimator-id-33\" class=\"sk-toggleable__label sk-toggleable__label-arrow\">GridSearchCV</label><div class=\"sk-toggleable__content\"><pre>GridSearchCV(estimator=SVC(class_weight=&#x27;balanced&#x27;),\n",
       "             param_grid={&#x27;C&#x27;: [0.001, 0.005, 0.01, 0.05, 0.1, 0.5, 1, 10, 50,\n",
       "                               100],\n",
       "                         &#x27;degree&#x27;: [2, 3, 4, 5], &#x27;gamma&#x27;: [&#x27;scale&#x27;, &#x27;auto&#x27;],\n",
       "                         &#x27;kernel&#x27;: [&#x27;linear&#x27;, &#x27;rbf&#x27;, &#x27;poly&#x27;]})</pre></div></div></div><div class=\"sk-parallel\"><div class=\"sk-parallel-item\"><div class=\"sk-item\"><div class=\"sk-label-container\"><div class=\"sk-label sk-toggleable\"><input class=\"sk-toggleable__control sk-hidden--visually\" id=\"sk-estimator-id-34\" type=\"checkbox\" ><label for=\"sk-estimator-id-34\" class=\"sk-toggleable__label sk-toggleable__label-arrow\">estimator: SVC</label><div class=\"sk-toggleable__content\"><pre>SVC(class_weight=&#x27;balanced&#x27;)</pre></div></div></div><div class=\"sk-serial\"><div class=\"sk-item\"><div class=\"sk-estimator sk-toggleable\"><input class=\"sk-toggleable__control sk-hidden--visually\" id=\"sk-estimator-id-35\" type=\"checkbox\" ><label for=\"sk-estimator-id-35\" class=\"sk-toggleable__label sk-toggleable__label-arrow\">SVC</label><div class=\"sk-toggleable__content\"><pre>SVC(class_weight=&#x27;balanced&#x27;)</pre></div></div></div></div></div></div></div></div></div></div>"
      ],
      "text/plain": [
       "GridSearchCV(estimator=SVC(class_weight='balanced'),\n",
       "             param_grid={'C': [0.001, 0.005, 0.01, 0.05, 0.1, 0.5, 1, 10, 50,\n",
       "                               100],\n",
       "                         'degree': [2, 3, 4, 5], 'gamma': ['scale', 'auto'],\n",
       "                         'kernel': ['linear', 'rbf', 'poly']})"
      ]
     },
     "execution_count": 154,
     "metadata": {},
     "output_type": "execute_result"
    }
   ],
   "source": [
    "grid.fit(scaled_X_train,y_train)"
   ]
  },
  {
   "cell_type": "code",
   "execution_count": 155,
   "id": "e1ae6e99",
   "metadata": {},
   "outputs": [
    {
     "data": {
      "text/plain": [
       "{'C': 10, 'degree': 2, 'gamma': 'scale', 'kernel': 'rbf'}"
      ]
     },
     "execution_count": 155,
     "metadata": {},
     "output_type": "execute_result"
    }
   ],
   "source": [
    "grid.best_params_"
   ]
  },
  {
   "cell_type": "code",
   "execution_count": 34,
   "id": "75a5265d",
   "metadata": {},
   "outputs": [],
   "source": [
    "from sklearn.metrics import confusion_matrix,classification_report,accuracy_score"
   ]
  },
  {
   "cell_type": "code",
   "execution_count": 146,
   "id": "59f2db48",
   "metadata": {},
   "outputs": [],
   "source": [
    "grid_pred = grid.predict(scaled_X_test)"
   ]
  },
  {
   "cell_type": "code",
   "execution_count": 147,
   "id": "907865d3",
   "metadata": {},
   "outputs": [
    {
     "data": {
      "text/plain": [
       "array([[21,  3],\n",
       "       [ 8, 61]], dtype=int64)"
      ]
     },
     "execution_count": 147,
     "metadata": {},
     "output_type": "execute_result"
    }
   ],
   "source": [
    "confusion_matrix(y_test,grid_pred)"
   ]
  },
  {
   "cell_type": "code",
   "execution_count": 148,
   "id": "6d3b544e",
   "metadata": {},
   "outputs": [
    {
     "name": "stdout",
     "output_type": "stream",
     "text": [
      "              precision    recall  f1-score   support\n",
      "\n",
      "         0.0       0.72      0.88      0.79        24\n",
      "         1.0       0.95      0.88      0.92        69\n",
      "\n",
      "    accuracy                           0.88        93\n",
      "   macro avg       0.84      0.88      0.85        93\n",
      "weighted avg       0.89      0.88      0.89        93\n",
      "\n"
     ]
    }
   ],
   "source": [
    "print(classification_report(y_test,grid_pred))"
   ]
  },
  {
   "cell_type": "code",
   "execution_count": null,
   "id": "0c0c62fd",
   "metadata": {},
   "outputs": [],
   "source": []
  },
  {
   "cell_type": "code",
   "execution_count": null,
   "id": "cdd51a45",
   "metadata": {},
   "outputs": [],
   "source": []
  },
  {
   "cell_type": "code",
   "execution_count": 26,
   "id": "a79b75e9",
   "metadata": {},
   "outputs": [],
   "source": [
    "X_train, X_test, y_train, y_test = train_test_split(X, y, test_size=0.3)"
   ]
  },
  {
   "cell_type": "code",
   "execution_count": 27,
   "id": "b1dd61ee",
   "metadata": {},
   "outputs": [],
   "source": [
    "from sklearn.ensemble import RandomForestClassifier"
   ]
  },
  {
   "cell_type": "code",
   "execution_count": 47,
   "id": "0eadb3e2",
   "metadata": {},
   "outputs": [],
   "source": [
    "from sklearn.model_selection import GridSearchCV"
   ]
  },
  {
   "cell_type": "code",
   "execution_count": 48,
   "id": "08ff2a5e",
   "metadata": {},
   "outputs": [],
   "source": [
    "\n"
   ]
  },
  {
   "cell_type": "code",
   "execution_count": 74,
   "id": "0ea3f8f2",
   "metadata": {},
   "outputs": [],
   "source": [
    "n_estimators=[5,16,10,50,74,100]\n",
    "max_features= [2,3,4]\n",
    "bootstrap = [True,False]\n",
    "oob_score = [True,False]"
   ]
  },
  {
   "cell_type": "code",
   "execution_count": 75,
   "id": "6e63f484",
   "metadata": {},
   "outputs": [],
   "source": [
    "param_grid = {'n_estimators':n_estimators,\n",
    "             'max_features':max_features,\n",
    "             'bootstrap':bootstrap,\n",
    "             'oob_score':oob_score}  # oob_score имеет смысл только при bootstrap=True!"
   ]
  },
  {
   "cell_type": "code",
   "execution_count": 76,
   "id": "ce678100",
   "metadata": {},
   "outputs": [],
   "source": [
    "rfc = RandomForestClassifier()\n",
    "grid = GridSearchCV(rfc,param_grid)"
   ]
  },
  {
   "cell_type": "code",
   "execution_count": 77,
   "id": "dc402068",
   "metadata": {},
   "outputs": [
    {
     "name": "stderr",
     "output_type": "stream",
     "text": [
      "C:\\ProgramData\\anaconda34\\Lib\\site-packages\\sklearn\\ensemble\\_forest.py:583: UserWarning: Some inputs do not have OOB scores. This probably means too few trees were used to compute any reliable OOB estimates.\n",
      "  warn(\n",
      "C:\\ProgramData\\anaconda34\\Lib\\site-packages\\sklearn\\ensemble\\_forest.py:583: UserWarning: Some inputs do not have OOB scores. This probably means too few trees were used to compute any reliable OOB estimates.\n",
      "  warn(\n",
      "C:\\ProgramData\\anaconda34\\Lib\\site-packages\\sklearn\\ensemble\\_forest.py:583: UserWarning: Some inputs do not have OOB scores. This probably means too few trees were used to compute any reliable OOB estimates.\n",
      "  warn(\n",
      "C:\\ProgramData\\anaconda34\\Lib\\site-packages\\sklearn\\ensemble\\_forest.py:583: UserWarning: Some inputs do not have OOB scores. This probably means too few trees were used to compute any reliable OOB estimates.\n",
      "  warn(\n",
      "C:\\ProgramData\\anaconda34\\Lib\\site-packages\\sklearn\\ensemble\\_forest.py:583: UserWarning: Some inputs do not have OOB scores. This probably means too few trees were used to compute any reliable OOB estimates.\n",
      "  warn(\n",
      "C:\\ProgramData\\anaconda34\\Lib\\site-packages\\sklearn\\ensemble\\_forest.py:583: UserWarning: Some inputs do not have OOB scores. This probably means too few trees were used to compute any reliable OOB estimates.\n",
      "  warn(\n",
      "C:\\ProgramData\\anaconda34\\Lib\\site-packages\\sklearn\\ensemble\\_forest.py:583: UserWarning: Some inputs do not have OOB scores. This probably means too few trees were used to compute any reliable OOB estimates.\n",
      "  warn(\n",
      "C:\\ProgramData\\anaconda34\\Lib\\site-packages\\sklearn\\ensemble\\_forest.py:583: UserWarning: Some inputs do not have OOB scores. This probably means too few trees were used to compute any reliable OOB estimates.\n",
      "  warn(\n",
      "C:\\ProgramData\\anaconda34\\Lib\\site-packages\\sklearn\\ensemble\\_forest.py:583: UserWarning: Some inputs do not have OOB scores. This probably means too few trees were used to compute any reliable OOB estimates.\n",
      "  warn(\n",
      "C:\\ProgramData\\anaconda34\\Lib\\site-packages\\sklearn\\ensemble\\_forest.py:583: UserWarning: Some inputs do not have OOB scores. This probably means too few trees were used to compute any reliable OOB estimates.\n",
      "  warn(\n",
      "C:\\ProgramData\\anaconda34\\Lib\\site-packages\\sklearn\\ensemble\\_forest.py:583: UserWarning: Some inputs do not have OOB scores. This probably means too few trees were used to compute any reliable OOB estimates.\n",
      "  warn(\n",
      "C:\\ProgramData\\anaconda34\\Lib\\site-packages\\sklearn\\ensemble\\_forest.py:583: UserWarning: Some inputs do not have OOB scores. This probably means too few trees were used to compute any reliable OOB estimates.\n",
      "  warn(\n",
      "C:\\ProgramData\\anaconda34\\Lib\\site-packages\\sklearn\\ensemble\\_forest.py:583: UserWarning: Some inputs do not have OOB scores. This probably means too few trees were used to compute any reliable OOB estimates.\n",
      "  warn(\n",
      "C:\\ProgramData\\anaconda34\\Lib\\site-packages\\sklearn\\ensemble\\_forest.py:583: UserWarning: Some inputs do not have OOB scores. This probably means too few trees were used to compute any reliable OOB estimates.\n",
      "  warn(\n",
      "C:\\ProgramData\\anaconda34\\Lib\\site-packages\\sklearn\\ensemble\\_forest.py:583: UserWarning: Some inputs do not have OOB scores. This probably means too few trees were used to compute any reliable OOB estimates.\n",
      "  warn(\n",
      "C:\\ProgramData\\anaconda34\\Lib\\site-packages\\sklearn\\ensemble\\_forest.py:583: UserWarning: Some inputs do not have OOB scores. This probably means too few trees were used to compute any reliable OOB estimates.\n",
      "  warn(\n",
      "C:\\ProgramData\\anaconda34\\Lib\\site-packages\\sklearn\\ensemble\\_forest.py:583: UserWarning: Some inputs do not have OOB scores. This probably means too few trees were used to compute any reliable OOB estimates.\n",
      "  warn(\n",
      "C:\\ProgramData\\anaconda34\\Lib\\site-packages\\sklearn\\ensemble\\_forest.py:583: UserWarning: Some inputs do not have OOB scores. This probably means too few trees were used to compute any reliable OOB estimates.\n",
      "  warn(\n",
      "C:\\ProgramData\\anaconda34\\Lib\\site-packages\\sklearn\\ensemble\\_forest.py:583: UserWarning: Some inputs do not have OOB scores. This probably means too few trees were used to compute any reliable OOB estimates.\n",
      "  warn(\n",
      "C:\\ProgramData\\anaconda34\\Lib\\site-packages\\sklearn\\ensemble\\_forest.py:583: UserWarning: Some inputs do not have OOB scores. This probably means too few trees were used to compute any reliable OOB estimates.\n",
      "  warn(\n",
      "C:\\ProgramData\\anaconda34\\Lib\\site-packages\\sklearn\\ensemble\\_forest.py:583: UserWarning: Some inputs do not have OOB scores. This probably means too few trees were used to compute any reliable OOB estimates.\n",
      "  warn(\n",
      "C:\\ProgramData\\anaconda34\\Lib\\site-packages\\sklearn\\ensemble\\_forest.py:583: UserWarning: Some inputs do not have OOB scores. This probably means too few trees were used to compute any reliable OOB estimates.\n",
      "  warn(\n",
      "C:\\ProgramData\\anaconda34\\Lib\\site-packages\\sklearn\\ensemble\\_forest.py:583: UserWarning: Some inputs do not have OOB scores. This probably means too few trees were used to compute any reliable OOB estimates.\n",
      "  warn(\n",
      "C:\\ProgramData\\anaconda34\\Lib\\site-packages\\sklearn\\ensemble\\_forest.py:583: UserWarning: Some inputs do not have OOB scores. This probably means too few trees were used to compute any reliable OOB estimates.\n",
      "  warn(\n",
      "C:\\ProgramData\\anaconda34\\Lib\\site-packages\\sklearn\\ensemble\\_forest.py:583: UserWarning: Some inputs do not have OOB scores. This probably means too few trees were used to compute any reliable OOB estimates.\n",
      "  warn(\n",
      "C:\\ProgramData\\anaconda34\\Lib\\site-packages\\sklearn\\ensemble\\_forest.py:583: UserWarning: Some inputs do not have OOB scores. This probably means too few trees were used to compute any reliable OOB estimates.\n",
      "  warn(\n",
      "C:\\ProgramData\\anaconda34\\Lib\\site-packages\\sklearn\\ensemble\\_forest.py:583: UserWarning: Some inputs do not have OOB scores. This probably means too few trees were used to compute any reliable OOB estimates.\n",
      "  warn(\n",
      "C:\\ProgramData\\anaconda34\\Lib\\site-packages\\sklearn\\ensemble\\_forest.py:583: UserWarning: Some inputs do not have OOB scores. This probably means too few trees were used to compute any reliable OOB estimates.\n",
      "  warn(\n",
      "C:\\ProgramData\\anaconda34\\Lib\\site-packages\\sklearn\\ensemble\\_forest.py:583: UserWarning: Some inputs do not have OOB scores. This probably means too few trees were used to compute any reliable OOB estimates.\n",
      "  warn(\n",
      "C:\\ProgramData\\anaconda34\\Lib\\site-packages\\sklearn\\ensemble\\_forest.py:583: UserWarning: Some inputs do not have OOB scores. This probably means too few trees were used to compute any reliable OOB estimates.\n",
      "  warn(\n",
      "C:\\ProgramData\\anaconda34\\Lib\\site-packages\\sklearn\\ensemble\\_forest.py:583: UserWarning: Some inputs do not have OOB scores. This probably means too few trees were used to compute any reliable OOB estimates.\n",
      "  warn(\n",
      "C:\\ProgramData\\anaconda34\\Lib\\site-packages\\sklearn\\ensemble\\_forest.py:583: UserWarning: Some inputs do not have OOB scores. This probably means too few trees were used to compute any reliable OOB estimates.\n",
      "  warn(\n",
      "C:\\ProgramData\\anaconda34\\Lib\\site-packages\\sklearn\\ensemble\\_forest.py:583: UserWarning: Some inputs do not have OOB scores. This probably means too few trees were used to compute any reliable OOB estimates.\n",
      "  warn(\n",
      "C:\\ProgramData\\anaconda34\\Lib\\site-packages\\sklearn\\model_selection\\_validation.py:378: FitFailedWarning: \n",
      "90 fits failed out of a total of 360.\n",
      "The score on these train-test partitions for these parameters will be set to nan.\n",
      "If these failures are not expected, you can try to debug them by setting error_score='raise'.\n",
      "\n",
      "Below are more details about the failures:\n",
      "--------------------------------------------------------------------------------\n",
      "90 fits failed with the following error:\n",
      "Traceback (most recent call last):\n",
      "  File \"C:\\ProgramData\\anaconda34\\Lib\\site-packages\\sklearn\\model_selection\\_validation.py\", line 686, in _fit_and_score\n",
      "    estimator.fit(X_train, y_train, **fit_params)\n",
      "  File \"C:\\ProgramData\\anaconda34\\Lib\\site-packages\\sklearn\\ensemble\\_forest.py\", line 434, in fit\n",
      "    raise ValueError(\"Out of bag estimation only available if bootstrap=True\")\n",
      "ValueError: Out of bag estimation only available if bootstrap=True\n",
      "\n",
      "  warnings.warn(some_fits_failed_message, FitFailedWarning)\n",
      "C:\\ProgramData\\anaconda34\\Lib\\site-packages\\sklearn\\model_selection\\_search.py:952: UserWarning: One or more of the test scores are non-finite: [0.80735098 0.81213579 0.84913125 0.84450682 0.84913125 0.84669874\n",
      " 0.86075916 0.86070569 0.86538359 0.85608126 0.86533013 0.84913125\n",
      " 0.81430099 0.81662657 0.83758353 0.83515103 0.84910452 0.85370222\n",
      " 0.86078589 0.85378241 0.86303128 0.87006148 0.85843357 0.85843357\n",
      " 0.81432772 0.84675221 0.85375568 0.82357658 0.85605453 0.84923817\n",
      " 0.86770917 0.86073242 0.86770917 0.88390805 0.86538359 0.85378241\n",
      "        nan 0.84218123        nan 0.84458701        nan 0.86075916\n",
      "        nan 0.8631382         nan 0.85380914        nan 0.87011494\n",
      "        nan 0.83058006        nan 0.83523122        nan 0.8514301\n",
      "        nan 0.87230687        nan 0.86073242        nan 0.84450682\n",
      "        nan 0.85159048        nan 0.87236033        nan 0.84218123\n",
      "        nan 0.84918471        nan 0.85610799        nan 0.88166266]\n",
      "  warnings.warn(\n"
     ]
    },
    {
     "data": {
      "text/html": [
       "<style>#sk-container-id-7 {color: black;background-color: white;}#sk-container-id-7 pre{padding: 0;}#sk-container-id-7 div.sk-toggleable {background-color: white;}#sk-container-id-7 label.sk-toggleable__label {cursor: pointer;display: block;width: 100%;margin-bottom: 0;padding: 0.3em;box-sizing: border-box;text-align: center;}#sk-container-id-7 label.sk-toggleable__label-arrow:before {content: \"▸\";float: left;margin-right: 0.25em;color: #696969;}#sk-container-id-7 label.sk-toggleable__label-arrow:hover:before {color: black;}#sk-container-id-7 div.sk-estimator:hover label.sk-toggleable__label-arrow:before {color: black;}#sk-container-id-7 div.sk-toggleable__content {max-height: 0;max-width: 0;overflow: hidden;text-align: left;background-color: #f0f8ff;}#sk-container-id-7 div.sk-toggleable__content pre {margin: 0.2em;color: black;border-radius: 0.25em;background-color: #f0f8ff;}#sk-container-id-7 input.sk-toggleable__control:checked~div.sk-toggleable__content {max-height: 200px;max-width: 100%;overflow: auto;}#sk-container-id-7 input.sk-toggleable__control:checked~label.sk-toggleable__label-arrow:before {content: \"▾\";}#sk-container-id-7 div.sk-estimator input.sk-toggleable__control:checked~label.sk-toggleable__label {background-color: #d4ebff;}#sk-container-id-7 div.sk-label input.sk-toggleable__control:checked~label.sk-toggleable__label {background-color: #d4ebff;}#sk-container-id-7 input.sk-hidden--visually {border: 0;clip: rect(1px 1px 1px 1px);clip: rect(1px, 1px, 1px, 1px);height: 1px;margin: -1px;overflow: hidden;padding: 0;position: absolute;width: 1px;}#sk-container-id-7 div.sk-estimator {font-family: monospace;background-color: #f0f8ff;border: 1px dotted black;border-radius: 0.25em;box-sizing: border-box;margin-bottom: 0.5em;}#sk-container-id-7 div.sk-estimator:hover {background-color: #d4ebff;}#sk-container-id-7 div.sk-parallel-item::after {content: \"\";width: 100%;border-bottom: 1px solid gray;flex-grow: 1;}#sk-container-id-7 div.sk-label:hover label.sk-toggleable__label {background-color: #d4ebff;}#sk-container-id-7 div.sk-serial::before {content: \"\";position: absolute;border-left: 1px solid gray;box-sizing: border-box;top: 0;bottom: 0;left: 50%;z-index: 0;}#sk-container-id-7 div.sk-serial {display: flex;flex-direction: column;align-items: center;background-color: white;padding-right: 0.2em;padding-left: 0.2em;position: relative;}#sk-container-id-7 div.sk-item {position: relative;z-index: 1;}#sk-container-id-7 div.sk-parallel {display: flex;align-items: stretch;justify-content: center;background-color: white;position: relative;}#sk-container-id-7 div.sk-item::before, #sk-container-id-7 div.sk-parallel-item::before {content: \"\";position: absolute;border-left: 1px solid gray;box-sizing: border-box;top: 0;bottom: 0;left: 50%;z-index: -1;}#sk-container-id-7 div.sk-parallel-item {display: flex;flex-direction: column;z-index: 1;position: relative;background-color: white;}#sk-container-id-7 div.sk-parallel-item:first-child::after {align-self: flex-end;width: 50%;}#sk-container-id-7 div.sk-parallel-item:last-child::after {align-self: flex-start;width: 50%;}#sk-container-id-7 div.sk-parallel-item:only-child::after {width: 0;}#sk-container-id-7 div.sk-dashed-wrapped {border: 1px dashed gray;margin: 0 0.4em 0.5em 0.4em;box-sizing: border-box;padding-bottom: 0.4em;background-color: white;}#sk-container-id-7 div.sk-label label {font-family: monospace;font-weight: bold;display: inline-block;line-height: 1.2em;}#sk-container-id-7 div.sk-label-container {text-align: center;}#sk-container-id-7 div.sk-container {/* jupyter's `normalize.less` sets `[hidden] { display: none; }` but bootstrap.min.css set `[hidden] { display: none !important; }` so we also need the `!important` here to be able to override the default hidden behavior on the sphinx rendered scikit-learn.org. See: https://github.com/scikit-learn/scikit-learn/issues/21755 */display: inline-block !important;position: relative;}#sk-container-id-7 div.sk-text-repr-fallback {display: none;}</style><div id=\"sk-container-id-7\" class=\"sk-top-container\"><div class=\"sk-text-repr-fallback\"><pre>GridSearchCV(estimator=RandomForestClassifier(),\n",
       "             param_grid={&#x27;bootstrap&#x27;: [True, False], &#x27;max_features&#x27;: [2, 3, 4],\n",
       "                         &#x27;n_estimators&#x27;: [5, 16, 10, 50, 74, 100],\n",
       "                         &#x27;oob_score&#x27;: [True, False]})</pre><b>In a Jupyter environment, please rerun this cell to show the HTML representation or trust the notebook. <br />On GitHub, the HTML representation is unable to render, please try loading this page with nbviewer.org.</b></div><div class=\"sk-container\" hidden><div class=\"sk-item sk-dashed-wrapped\"><div class=\"sk-label-container\"><div class=\"sk-label sk-toggleable\"><input class=\"sk-toggleable__control sk-hidden--visually\" id=\"sk-estimator-id-15\" type=\"checkbox\" ><label for=\"sk-estimator-id-15\" class=\"sk-toggleable__label sk-toggleable__label-arrow\">GridSearchCV</label><div class=\"sk-toggleable__content\"><pre>GridSearchCV(estimator=RandomForestClassifier(),\n",
       "             param_grid={&#x27;bootstrap&#x27;: [True, False], &#x27;max_features&#x27;: [2, 3, 4],\n",
       "                         &#x27;n_estimators&#x27;: [5, 16, 10, 50, 74, 100],\n",
       "                         &#x27;oob_score&#x27;: [True, False]})</pre></div></div></div><div class=\"sk-parallel\"><div class=\"sk-parallel-item\"><div class=\"sk-item\"><div class=\"sk-label-container\"><div class=\"sk-label sk-toggleable\"><input class=\"sk-toggleable__control sk-hidden--visually\" id=\"sk-estimator-id-16\" type=\"checkbox\" ><label for=\"sk-estimator-id-16\" class=\"sk-toggleable__label sk-toggleable__label-arrow\">estimator: RandomForestClassifier</label><div class=\"sk-toggleable__content\"><pre>RandomForestClassifier()</pre></div></div></div><div class=\"sk-serial\"><div class=\"sk-item\"><div class=\"sk-estimator sk-toggleable\"><input class=\"sk-toggleable__control sk-hidden--visually\" id=\"sk-estimator-id-17\" type=\"checkbox\" ><label for=\"sk-estimator-id-17\" class=\"sk-toggleable__label sk-toggleable__label-arrow\">RandomForestClassifier</label><div class=\"sk-toggleable__content\"><pre>RandomForestClassifier()</pre></div></div></div></div></div></div></div></div></div></div>"
      ],
      "text/plain": [
       "GridSearchCV(estimator=RandomForestClassifier(),\n",
       "             param_grid={'bootstrap': [True, False], 'max_features': [2, 3, 4],\n",
       "                         'n_estimators': [5, 16, 10, 50, 74, 100],\n",
       "                         'oob_score': [True, False]})"
      ]
     },
     "execution_count": 77,
     "metadata": {},
     "output_type": "execute_result"
    }
   ],
   "source": [
    "grid.fit(X_train,y_train)"
   ]
  },
  {
   "cell_type": "code",
   "execution_count": 78,
   "id": "f0ebb86f",
   "metadata": {},
   "outputs": [
    {
     "data": {
      "text/plain": [
       "{'bootstrap': True, 'max_features': 4, 'n_estimators': 74, 'oob_score': False}"
      ]
     },
     "execution_count": 78,
     "metadata": {},
     "output_type": "execute_result"
    }
   ],
   "source": [
    "grid.best_params_"
   ]
  },
  {
   "cell_type": "code",
   "execution_count": 79,
   "id": "1f278dab",
   "metadata": {},
   "outputs": [
    {
     "data": {
      "text/plain": [
       "array([[ 30,  20],\n",
       "       [  5, 130]], dtype=int64)"
      ]
     },
     "execution_count": 79,
     "metadata": {},
     "output_type": "execute_result"
    }
   ],
   "source": [
    "confusion_matrix(y_test,preds)"
   ]
  },
  {
   "cell_type": "code",
   "execution_count": null,
   "id": "5bc17b1f",
   "metadata": {},
   "outputs": [],
   "source": []
  },
  {
   "cell_type": "code",
   "execution_count": 80,
   "id": "98030378",
   "metadata": {},
   "outputs": [
    {
     "name": "stdout",
     "output_type": "stream",
     "text": [
      "              precision    recall  f1-score   support\n",
      "\n",
      "         0.0       0.86      0.60      0.71        50\n",
      "         1.0       0.87      0.96      0.91       135\n",
      "\n",
      "    accuracy                           0.86       185\n",
      "   macro avg       0.86      0.78      0.81       185\n",
      "weighted avg       0.86      0.86      0.86       185\n",
      "\n"
     ]
    }
   ],
   "source": [
    "print(classification_report(y_test,preds))"
   ]
  },
  {
   "cell_type": "code",
   "execution_count": 81,
   "id": "6426ec1d",
   "metadata": {},
   "outputs": [],
   "source": [
    "errors = []\n",
    "misclassifications = []\n",
    "\n",
    "for n in range(1,20):\n",
    "    rfc = RandomForestClassifier( n_estimators=n,bootstrap=True,max_features= 4)\n",
    "    rfc.fit(X_train,y_train)\n",
    "    preds = rfc.predict(X_test)\n",
    "    err = 1 - accuracy_score(preds,y_test)\n",
    "    n_missed = np.sum(preds != y_test) # Более подробно об этой строке кода см. в видео-лекции!!\n",
    "    errors.append(err)\n",
    "    misclassifications.append(n_missed)"
   ]
  },
  {
   "cell_type": "code",
   "execution_count": 82,
   "id": "33b61230",
   "metadata": {},
   "outputs": [
    {
     "data": {
      "text/plain": [
       "[<matplotlib.lines.Line2D at 0x1981715bc90>]"
      ]
     },
     "execution_count": 82,
     "metadata": {},
     "output_type": "execute_result"
    },
    {
     "data": {
      "image/png": "[encoded data removed]",
      "text/plain": [
       "<Figure size 640x480 with 1 Axes>"
      ]
     },
     "metadata": {},
     "output_type": "display_data"
    }
   ],
   "source": [
    "plt.plot(range(1,20),errors)"
   ]
  },
  {
   "cell_type": "code",
   "execution_count": 83,
   "id": "b2a58163",
   "metadata": {},
   "outputs": [],
   "source": [
    "X_train, X_test, y_train, y_test = train_test_split(X, y, test_size=0.3, random_state=101)"
   ]
  },
  {
   "cell_type": "code",
   "execution_count": 84,
   "id": "ec5b3bf1",
   "metadata": {},
   "outputs": [],
   "source": [
    "from sklearn.ensemble import GradientBoostingClassifier"
   ]
  },
  {
   "cell_type": "code",
   "execution_count": 95,
   "id": "2e998a6a",
   "metadata": {},
   "outputs": [],
   "source": [
    "param_grid = {\"n_estimators\":[1,5,10,20,40,100,150,200],'max_depth':[3,4,5,6,7,8]}"
   ]
  },
  {
   "cell_type": "code",
   "execution_count": 96,
   "id": "acd590c9",
   "metadata": {},
   "outputs": [],
   "source": [
    "gb_model = GradientBoostingClassifier()"
   ]
  },
  {
   "cell_type": "code",
   "execution_count": 97,
   "id": "e43bb811",
   "metadata": {},
   "outputs": [],
   "source": [
    "grid = GridSearchCV(gb_model,param_grid)"
   ]
  },
  {
   "cell_type": "code",
   "execution_count": 98,
   "id": "ea012d77",
   "metadata": {},
   "outputs": [
    {
     "data": {
      "text/html": [
       "<style>#sk-container-id-9 {color: black;background-color: white;}#sk-container-id-9 pre{padding: 0;}#sk-container-id-9 div.sk-toggleable {background-color: white;}#sk-container-id-9 label.sk-toggleable__label {cursor: pointer;display: block;width: 100%;margin-bottom: 0;padding: 0.3em;box-sizing: border-box;text-align: center;}#sk-container-id-9 label.sk-toggleable__label-arrow:before {content: \"▸\";float: left;margin-right: 0.25em;color: #696969;}#sk-container-id-9 label.sk-toggleable__label-arrow:hover:before {color: black;}#sk-container-id-9 div.sk-estimator:hover label.sk-toggleable__label-arrow:before {color: black;}#sk-container-id-9 div.sk-toggleable__content {max-height: 0;max-width: 0;overflow: hidden;text-align: left;background-color: #f0f8ff;}#sk-container-id-9 div.sk-toggleable__content pre {margin: 0.2em;color: black;border-radius: 0.25em;background-color: #f0f8ff;}#sk-container-id-9 input.sk-toggleable__control:checked~div.sk-toggleable__content {max-height: 200px;max-width: 100%;overflow: auto;}#sk-container-id-9 input.sk-toggleable__control:checked~label.sk-toggleable__label-arrow:before {content: \"▾\";}#sk-container-id-9 div.sk-estimator input.sk-toggleable__control:checked~label.sk-toggleable__label {background-color: #d4ebff;}#sk-container-id-9 div.sk-label input.sk-toggleable__control:checked~label.sk-toggleable__label {background-color: #d4ebff;}#sk-container-id-9 input.sk-hidden--visually {border: 0;clip: rect(1px 1px 1px 1px);clip: rect(1px, 1px, 1px, 1px);height: 1px;margin: -1px;overflow: hidden;padding: 0;position: absolute;width: 1px;}#sk-container-id-9 div.sk-estimator {font-family: monospace;background-color: #f0f8ff;border: 1px dotted black;border-radius: 0.25em;box-sizing: border-box;margin-bottom: 0.5em;}#sk-container-id-9 div.sk-estimator:hover {background-color: #d4ebff;}#sk-container-id-9 div.sk-parallel-item::after {content: \"\";width: 100%;border-bottom: 1px solid gray;flex-grow: 1;}#sk-container-id-9 div.sk-label:hover label.sk-toggleable__label {background-color: #d4ebff;}#sk-container-id-9 div.sk-serial::before {content: \"\";position: absolute;border-left: 1px solid gray;box-sizing: border-box;top: 0;bottom: 0;left: 50%;z-index: 0;}#sk-container-id-9 div.sk-serial {display: flex;flex-direction: column;align-items: center;background-color: white;padding-right: 0.2em;padding-left: 0.2em;position: relative;}#sk-container-id-9 div.sk-item {position: relative;z-index: 1;}#sk-container-id-9 div.sk-parallel {display: flex;align-items: stretch;justify-content: center;background-color: white;position: relative;}#sk-container-id-9 div.sk-item::before, #sk-container-id-9 div.sk-parallel-item::before {content: \"\";position: absolute;border-left: 1px solid gray;box-sizing: border-box;top: 0;bottom: 0;left: 50%;z-index: -1;}#sk-container-id-9 div.sk-parallel-item {display: flex;flex-direction: column;z-index: 1;position: relative;background-color: white;}#sk-container-id-9 div.sk-parallel-item:first-child::after {align-self: flex-end;width: 50%;}#sk-container-id-9 div.sk-parallel-item:last-child::after {align-self: flex-start;width: 50%;}#sk-container-id-9 div.sk-parallel-item:only-child::after {width: 0;}#sk-container-id-9 div.sk-dashed-wrapped {border: 1px dashed gray;margin: 0 0.4em 0.5em 0.4em;box-sizing: border-box;padding-bottom: 0.4em;background-color: white;}#sk-container-id-9 div.sk-label label {font-family: monospace;font-weight: bold;display: inline-block;line-height: 1.2em;}#sk-container-id-9 div.sk-label-container {text-align: center;}#sk-container-id-9 div.sk-container {/* jupyter's `normalize.less` sets `[hidden] { display: none; }` but bootstrap.min.css set `[hidden] { display: none !important; }` so we also need the `!important` here to be able to override the default hidden behavior on the sphinx rendered scikit-learn.org. See: https://github.com/scikit-learn/scikit-learn/issues/21755 */display: inline-block !important;position: relative;}#sk-container-id-9 div.sk-text-repr-fallback {display: none;}</style><div id=\"sk-container-id-9\" class=\"sk-top-container\"><div class=\"sk-text-repr-fallback\"><pre>GridSearchCV(estimator=GradientBoostingClassifier(),\n",
       "             param_grid={&#x27;max_depth&#x27;: [3, 4, 5, 6, 7, 8],\n",
       "                         &#x27;n_estimators&#x27;: [1, 5, 10, 20, 40, 100, 150, 200]})</pre><b>In a Jupyter environment, please rerun this cell to show the HTML representation or trust the notebook. <br />On GitHub, the HTML representation is unable to render, please try loading this page with nbviewer.org.</b></div><div class=\"sk-container\" hidden><div class=\"sk-item sk-dashed-wrapped\"><div class=\"sk-label-container\"><div class=\"sk-label sk-toggleable\"><input class=\"sk-toggleable__control sk-hidden--visually\" id=\"sk-estimator-id-21\" type=\"checkbox\" ><label for=\"sk-estimator-id-21\" class=\"sk-toggleable__label sk-toggleable__label-arrow\">GridSearchCV</label><div class=\"sk-toggleable__content\"><pre>GridSearchCV(estimator=GradientBoostingClassifier(),\n",
       "             param_grid={&#x27;max_depth&#x27;: [3, 4, 5, 6, 7, 8],\n",
       "                         &#x27;n_estimators&#x27;: [1, 5, 10, 20, 40, 100, 150, 200]})</pre></div></div></div><div class=\"sk-parallel\"><div class=\"sk-parallel-item\"><div class=\"sk-item\"><div class=\"sk-label-container\"><div class=\"sk-label sk-toggleable\"><input class=\"sk-toggleable__control sk-hidden--visually\" id=\"sk-estimator-id-22\" type=\"checkbox\" ><label for=\"sk-estimator-id-22\" class=\"sk-toggleable__label sk-toggleable__label-arrow\">estimator: GradientBoostingClassifier</label><div class=\"sk-toggleable__content\"><pre>GradientBoostingClassifier()</pre></div></div></div><div class=\"sk-serial\"><div class=\"sk-item\"><div class=\"sk-estimator sk-toggleable\"><input class=\"sk-toggleable__control sk-hidden--visually\" id=\"sk-estimator-id-23\" type=\"checkbox\" ><label for=\"sk-estimator-id-23\" class=\"sk-toggleable__label sk-toggleable__label-arrow\">GradientBoostingClassifier</label><div class=\"sk-toggleable__content\"><pre>GradientBoostingClassifier()</pre></div></div></div></div></div></div></div></div></div></div>"
      ],
      "text/plain": [
       "GridSearchCV(estimator=GradientBoostingClassifier(),\n",
       "             param_grid={'max_depth': [3, 4, 5, 6, 7, 8],\n",
       "                         'n_estimators': [1, 5, 10, 20, 40, 100, 150, 200]})"
      ]
     },
     "execution_count": 98,
     "metadata": {},
     "output_type": "execute_result"
    }
   ],
   "source": [
    "grid.fit(X_train,y_train)"
   ]
  },
  {
   "cell_type": "code",
   "execution_count": 99,
   "id": "df15c4e7",
   "metadata": {},
   "outputs": [
    {
     "data": {
      "text/plain": [
       "{'max_depth': 3, 'n_estimators': 150}"
      ]
     },
     "execution_count": 99,
     "metadata": {},
     "output_type": "execute_result"
    }
   ],
   "source": [
    "grid.best_params_"
   ]
  },
  {
   "cell_type": "code",
   "execution_count": 100,
   "id": "8e5b9c64",
   "metadata": {},
   "outputs": [],
   "source": [
    "predictions = grid.predict(X_test)"
   ]
  },
  {
   "cell_type": "code",
   "execution_count": 101,
   "id": "3320df72",
   "metadata": {},
   "outputs": [
    {
     "data": {
      "text/plain": [
       "array([[ 35,  15],\n",
       "       [  6, 129]], dtype=int64)"
      ]
     },
     "execution_count": 101,
     "metadata": {},
     "output_type": "execute_result"
    }
   ],
   "source": [
    "confusion_matrix(y_test,predictions)"
   ]
  },
  {
   "cell_type": "code",
   "execution_count": 102,
   "id": "7f3ae553",
   "metadata": {},
   "outputs": [
    {
     "name": "stdout",
     "output_type": "stream",
     "text": [
      "              precision    recall  f1-score   support\n",
      "\n",
      "         0.0       0.85      0.70      0.77        50\n",
      "         1.0       0.90      0.96      0.92       135\n",
      "\n",
      "    accuracy                           0.89       185\n",
      "   macro avg       0.87      0.83      0.85       185\n",
      "weighted avg       0.88      0.89      0.88       185\n",
      "\n"
     ]
    }
   ],
   "source": [
    "print(classification_report(y_test,predictions))"
   ]
  },
  {
   "cell_type": "code",
   "execution_count": null,
   "id": "bd29fff2",
   "metadata": {},
   "outputs": [],
   "source": [
    "fi"
   ]
  }
 ],
 "metadata": {
  "kernelspec": {
   "display_name": "Python 3 (ipykernel)",
   "language": "python",
   "name": "python3"
  },
  "language_info": {
   "codemirror_mode": {
    "name": "ipython",
    "version": 3
   },
   "file_extension": ".py",
   "mimetype": "text/x-python",
   "name": "python",
   "nbconvert_exporter": "python",
   "pygments_lexer": "ipython3",
   "version": "3.11.3"
  }
 },
 "nbformat": 4,
 "nbformat_minor": 5
}
